{
 "cells": [
  {
   "cell_type": "code",
   "execution_count": 7,
   "id": "6fc7717e",
   "metadata": {},
   "outputs": [
    {
     "name": "stdout",
     "output_type": "stream",
     "text": [
      "Principal : 1000\n"
     ]
    }
   ],
   "source": [
    "p=int(input(\"Principal : \"))"
   ]
  },
  {
   "cell_type": "code",
   "execution_count": 8,
   "id": "d663658a",
   "metadata": {},
   "outputs": [
    {
     "name": "stdout",
     "output_type": "stream",
     "text": [
      "Time : 2\n"
     ]
    }
   ],
   "source": [
    "t=int(input(\"Time : \"))"
   ]
  },
  {
   "cell_type": "code",
   "execution_count": 9,
   "id": "4a63073c",
   "metadata": {},
   "outputs": [
    {
     "name": "stdout",
     "output_type": "stream",
     "text": [
      "Rate of interest : 5\n"
     ]
    }
   ],
   "source": [
    "r=int(input(\"Rate of interest : \"))"
   ]
  },
  {
   "cell_type": "code",
   "execution_count": 11,
   "id": "6c18ccc6",
   "metadata": {},
   "outputs": [
    {
     "data": {
      "text/plain": [
       "100.0"
      ]
     },
     "execution_count": 11,
     "metadata": {},
     "output_type": "execute_result"
    }
   ],
   "source": [
    "simple_interest=(p*t*r)/100\n",
    "simple_interest"
   ]
  },
  {
   "cell_type": "code",
   "execution_count": null,
   "id": "195656c1",
   "metadata": {},
   "outputs": [],
   "source": []
  }
 ],
 "metadata": {
  "kernelspec": {
   "display_name": "Python 3",
   "language": "python",
   "name": "python3"
  },
  "language_info": {
   "codemirror_mode": {
    "name": "ipython",
    "version": 3
   },
   "file_extension": ".py",
   "mimetype": "text/x-python",
   "name": "python",
   "nbconvert_exporter": "python",
   "pygments_lexer": "ipython3",
   "version": "3.8.8"
  }
 },
 "nbformat": 4,
 "nbformat_minor": 5
}
